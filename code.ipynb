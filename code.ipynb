{
 "cells": [
  {
   "cell_type": "code",
   "execution_count": null,
   "metadata": {},
   "outputs": [],
   "source": [
    "# DATA CULMINATING"
   ]
  },
  {
   "cell_type": "code",
   "execution_count": null,
   "metadata": {},
   "outputs": [],
   "source": [
    "# Install Needed Packages\n",
    "!pip3 install gender\n",
    "!pip3 install gender-guesser"
   ]
  },
  {
   "cell_type": "code",
   "execution_count": null,
   "metadata": {},
   "outputs": [],
   "source": [
    "# Python Libraries Used\n",
    "import numpy as np\n",
    "import pandas as pd\n",
    "from gender import GenderDetector\n",
    "import gender_guesser.detector as gender2"
   ]
  },
  {
   "cell_type": "code",
   "execution_count": null,
   "metadata": {},
   "outputs": [],
   "source": [
    "# Create Gender Detectors\n",
    "gd = GenderDetector()\n",
    "d = gender2.Detector()"
   ]
  },
  {
   "cell_type": "code",
   "execution_count": null,
   "metadata": {},
   "outputs": [],
   "source": [
    "# Test Detectors with Generic Names\n",
    "names = [\"Bob\", \"Anna\", \"John\", \"Smith\", \"Lucy\", \"David\", \"Mike\", \"Sally\"]\n",
    "genders1 = []\n",
    "genders2 = []\n",
    "\n",
    "for name in names:\n",
    "    genders1.append(gd.gender(name))\n",
    "    genders2.append(d.get_gender(name))\n",
    "\n",
    "print(genders1)\n",
    "print(genders2)\n",
    "\n",
    "# Can conclude that both gender detectors are accurate\n",
    "# Can conclude that gender detector from package \"gender\" is more consistant\n",
    "# gd.gender() will be used"
   ]
  },
  {
   "cell_type": "code",
   "execution_count": null,
   "metadata": {},
   "outputs": [],
   "source": [
    "%%timeit -n 1 -r 1\n",
    "\n",
    "# Add a SEX column in each of the excel sheets (2014-2018)\n",
    "for i in range(2014,2019):\n",
    "    file = pd.ExcelFile(f\"SunshineList{i}.xlsx\")\n",
    "    data = pd.read_excel(file)\n",
    "    data[\"SEX\"] = data[\"First Name\"].apply(lambda x: gd.gender(x))\n",
    "    data.to_excel(f\"ModifiedSunshineList{i}.xlsx\")\n",
    "    print(data.SEX.value_counts())\n",
    "    print(f\"Year: {i}'s excel file is completed! \")\n",
    "print(\"\")\n",
    "print(\"DONE EVERYTHING! \")\n",
    "print(\"\")"
   ]
  }
 ],
 "metadata": {
  "kernelspec": {
   "display_name": "Python 3",
   "language": "python",
   "name": "python3"
  },
  "language_info": {
   "codemirror_mode": {
    "name": "ipython",
    "version": 3
   },
   "file_extension": ".py",
   "mimetype": "text/x-python",
   "name": "python",
   "nbconvert_exporter": "python",
   "pygments_lexer": "ipython3",
   "version": "3.8.5"
  }
 },
 "nbformat": 4,
 "nbformat_minor": 4
}
